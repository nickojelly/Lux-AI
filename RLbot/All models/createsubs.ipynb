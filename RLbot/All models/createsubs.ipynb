{
 "cells": [
  {
   "cell_type": "code",
   "execution_count": 7,
   "metadata": {},
   "outputs": [],
   "source": [
    "import os \n",
    "from distutils.dir_util import copy_tree"
   ]
  },
  {
   "cell_type": "code",
   "execution_count": 10,
   "metadata": {},
   "outputs": [
    {
     "data": {
      "text/plain": [
       "['cluster', 'errorlogs', 'refuel', 'replays', 'resources', 'root', 'testing']"
      ]
     },
     "execution_count": 10,
     "metadata": {},
     "output_type": "execute_result"
    }
   ],
   "source": [
    "\n",
    "bot_types = os.listdir()\n",
    "bot_types"
   ]
  },
  {
   "cell_type": "code",
   "execution_count": 11,
   "metadata": {},
   "outputs": [
    {
     "name": "stdout",
     "output_type": "stream",
     "text": [
      "cluster\n",
      "errorlogs\n",
      "refuel\n",
      "replays\n",
      "resources\n",
      "root\n",
      "testing\n",
      "['cluster/logs_5615/main_lux-ai-2021.py', 'cluster/logs_8677/main_lux-ai-2021.py', 'refuel/logs_1052/main_lux-ai-2021.py', 'refuel/logs_1399/main_lux-ai-2021.py', 'refuel/logs_3751/main_lux-ai-2021.py', 'refuel/logs_3930/main_lux-ai-2021.py', 'refuel/logs_5615/main_lux-ai-2021.py', 'refuel/logs_5967/main_lux-ai-2021.py', 'refuel/logs_7332/main_lux-ai-2021.py', 'refuel/logs_8251/main_lux-ai-2021.py', 'refuel/logs_9098/main_lux-ai-2021.py', 'refuel/logs_9487/main_lux-ai-2021.py', 'resources/luxai2021/main_lux-ai-2021.py', 'root/logs_2632/main_lux-ai-2021.py', 'root/logs_3067/main_lux-ai-2021.py', 'root/logs_4619/main_lux-ai-2021.py', 'root/logs_4622/main_lux-ai-2021.py', 'root/logs_4694/main_lux-ai-2021.py', 'root/logs_4912/main_lux-ai-2021.py', 'root/logs_5593/main_lux-ai-2021.py', 'root/logs_7943/main_lux-ai-2021.py', 'root/logs_8438/main_lux-ai-2021.py', 'root/logs_8565/main_lux-ai-2021.py', 'root/logs_9350/main_lux-ai-2021.py', 'testing/logs_4799/main_lux-ai-2021.py', 'testing/logs_5037/main_lux-ai-2021.py', 'testing/logs_5262/main_lux-ai-2021.py', 'testing/logs_7103/main_lux-ai-2021.py', 'testing/logs_7576/main_lux-ai-2021.py', 'testing/logs_762/main_lux-ai-2021.py']\n"
     ]
    }
   ],
   "source": [
    "dest = []\n",
    "for bot in bot_types:\n",
    "    print(bot)\n",
    "    models = os.listdir(path=bot)\n",
    "    for model in models:\n",
    "        if model[0]==\"l\":\n",
    "            dest.append(f\"{bot}/{model}/main_lux-ai-2021.py\")\n",
    "print(dest)"
   ]
  },
  {
   "cell_type": "code",
   "execution_count": 28,
   "metadata": {},
   "outputs": [
    {
     "name": "stdout",
     "output_type": "stream",
     "text": [
      "copied to  cluster/logs_5615\n",
      "copied to  cluster/logs_8677\n",
      "copied to  refuel/logs_1052\n",
      "copied to  refuel/logs_1399\n",
      "copied to  refuel/logs_209\n",
      "copied to  refuel/logs_3751\n",
      "copied to  refuel/logs_3930\n",
      "copied to  refuel/logs_5615\n",
      "copied to  refuel/logs_5967\n",
      "copied to  refuel/logs_7332\n",
      "copied to  refuel/logs_8251\n",
      "copied to  refuel/logs_9098\n",
      "copied to  refuel/logs_9487\n",
      "copied to  root/logs_2632\n",
      "copied to  root/logs_3067\n",
      "copied to  root/logs_4619\n",
      "copied to  root/logs_4622\n",
      "copied to  root/logs_4694\n",
      "copied to  root/logs_4912\n",
      "copied to  root/logs_5593\n",
      "copied to  root/logs_7943\n",
      "copied to  root/logs_8438\n",
      "copied to  root/logs_8565\n",
      "copied to  root/logs_9350\n",
      "copied to  testing/logs_4799\n",
      "copied to  testing/logs_5037\n",
      "copied to  testing/logs_5262\n",
      "copied to  testing/logs_7103\n",
      "copied to  testing/logs_7576\n",
      "copied to  testing/logs_762\n"
     ]
    }
   ],
   "source": [
    "for d in dest:\n",
    "    copy_tree(\"resources\", d)\n",
    "    print(\"copied to \", d)"
   ]
  },
  {
   "cell_type": "code",
   "execution_count": null,
   "metadata": {},
   "outputs": [],
   "source": [
    "lux-ai-2021 --rankSystem=\"trueskill\" --tournament --maxConcurrentMatches=2 --storeReplay=false --storeLogs=false 'cluster\\logs_5615'  'cluster\\logs_8677'  'refuel\\logs_1052'  'refuel\\logs_1399'  'refuel\\logs_209'  'refuel\\logs_3751'  'refuel\\logs_3930'  'refuel\\logs_5615'  'refuel\\logs_5967'  'refuel\\logs_7332'  'refuel\\logs_8251'  'refuel\\logs_9098'  'refuel\\logs_9487'  'root\\logs_2632'  'root\\logs_3067'  'root\\logs_4619'  'root\\logs_4622'  'root\\logs_4694'  'root\\logs_4912'  'root\\logs_5593'  'root\\logs_7943'  'root\\logs_8438'  'root\\logs_8565'  'root\\logs_9350'  'testing\\logs_4799'  'testing\\logs_5037'  'testing\\logs_5262'  'testing\\logs_7103'  'testing\\logs_7576'  'testing\\logs_762'"
   ]
  },
  {
   "cell_type": "code",
   "execution_count": null,
   "metadata": {},
   "outputs": [],
   "source": [
    "lux-ai-2021 --rankSystem=\"trueskill\" --tournament --maxConcurrentMatches=2 --storeReplay=false --storeLogs=false 'cluster\\logs_5615\\main_lux-ai-2021.py' 'cluster\\logs_8677\\main_lux-ai-2021.py' 'refuel\\logs_1052\\main_lux-ai-2021.py' 'refuel\\logs_1399\\main_lux-ai-2021.py' 'refuel\\logs_209\\main_lux-ai-2021.py' 'refuel\\logs_3751\\main_lux-ai-2021.py' 'refuel\\logs_3930\\main_lux-ai-2021.py' 'refuel\\logs_5615\\main_lux-ai-2021.py' 'refuel\\logs_5967\\main_lux-ai-2021.py' 'refuel\\logs_7332\\main_lux-ai-2021.py' 'refuel\\logs_8251\\main_lux-ai-2021.py' 'refuel\\logs_9098\\main_lux-ai-2021.py' 'refuel\\logs_9487\\main_lux-ai-2021.py' 'root\\logs_2632\\main_lux-ai-2021.py' 'root\\logs_3067\\main_lux-ai-2021.py' 'root\\logs_4619\\main_lux-ai-2021.py' 'root\\logs_4622\\main_lux-ai-2021.py' 'root\\logs_4694\\main_lux-ai-2021.py' 'root\\logs_4912\\main_lux-ai-2021.py' 'root\\logs_5593\\main_lux-ai-2021.py' 'root\\logs_7943\\main_lux-ai-2021.py' 'root\\logs_8438\\main_lux-ai-2021.py' 'root\\logs_8565\\main_lux-ai-2021.py' 'root\\logs_9350\\main_lux-ai-2021.py' 'testing\\logs_4799\\main_lux-ai-2021.py' 'testing\\logs_5037\\main_lux-ai-2021.py' 'testing\\logs_5262\\main_lux-ai-2021.py' 'testing\\logs_7103\\main_lux-ai-2021.py' 'testing\\logs_7576\\main_lux-ai-2021.py' 'testing\\logs_762'"
   ]
  },
  {
   "cell_type": "code",
   "execution_count": 13,
   "metadata": {},
   "outputs": [],
   "source": [
    "os.system(\"lux-ai-2021 cluster\\logs_5615\\main_lux-ai-2021.py  cluster\\logs_8677\\main_lux-ai-2021.py\")"
   ]
  }
 ],
 "metadata": {
  "interpreter": {
   "hash": "bfbc89c8622a84d0dd68be4d1447c40cc119f7a41d05894739daaf06a08adac1"
  },
  "kernelspec": {
   "display_name": "Python 3.9.7 64-bit ('pytorch': conda)",
   "name": "python3"
  },
  "language_info": {
   "codemirror_mode": {
    "name": "ipython",
    "version": 3
   },
   "file_extension": ".py",
   "mimetype": "text/x-python",
   "name": "python",
   "nbconvert_exporter": "python",
   "pygments_lexer": "ipython3",
   "version": "3.9.7"
  },
  "orig_nbformat": 4
 },
 "nbformat": 4,
 "nbformat_minor": 2
}
